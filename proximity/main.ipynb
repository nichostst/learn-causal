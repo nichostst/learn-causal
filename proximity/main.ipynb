{
 "cells": [
  {
   "cell_type": "code",
   "execution_count": 1,
   "metadata": {
    "ExecuteTime": {
     "end_time": "2020-05-23T12:59:02.735495Z",
     "start_time": "2020-05-23T12:59:02.318485Z"
    }
   },
   "outputs": [],
   "source": [
    "import numpy as np\n",
    "import pandas as pd\n",
    "from sklearn.linear_model import LinearRegression\n",
    "import time\n",
    "\n",
    "start = time.time()"
   ]
  },
  {
   "cell_type": "markdown",
   "metadata": {},
   "source": [
    "# Process Data"
   ]
  },
  {
   "cell_type": "markdown",
   "metadata": {},
   "source": [
    "## Read"
   ]
  },
  {
   "cell_type": "code",
   "execution_count": 2,
   "metadata": {
    "ExecuteTime": {
     "end_time": "2020-05-23T12:59:02.754808Z",
     "start_time": "2020-05-23T12:59:02.736722Z"
    }
   },
   "outputs": [],
   "source": [
    "df = pd.read_csv('raw.csv', index_col=0)"
   ]
  },
  {
   "cell_type": "markdown",
   "metadata": {},
   "source": [
    "## Process"
   ]
  },
  {
   "cell_type": "code",
   "execution_count": 3,
   "metadata": {
    "ExecuteTime": {
     "end_time": "2020-05-23T12:59:02.775770Z",
     "start_time": "2020-05-23T12:59:02.756129Z"
    }
   },
   "outputs": [
    {
     "name": "stdout",
     "output_type": "stream",
     "text": [
      "Shape before preprocessing: (3613, 52)\n",
      "Shape after preprocessing: (2993, 55)\n",
      "Data loss: 17.16%\n"
     ]
    }
   ],
   "source": [
    "rows = df.shape[0]\n",
    "print(f'Shape before preprocessing: {df.shape}')\n",
    "\n",
    "# Must have wage data, either '76 or '78\n",
    "valid = np.argwhere(~df[['lwage76', 'lwage78']].isnull().all(axis=1).values).ravel()\n",
    "df = df.iloc[valid, :].reset_index(drop=True)\n",
    "# Must have values for these features\n",
    "df = df.dropna(subset=['smsa78r', 'reg78r', 'enroll78', 'marsta78']).reset_index()\n",
    "\n",
    "# Impute IQ & KWW\n",
    "df['imputeiq'] = df['iq'].isnull()*1\n",
    "df['iq'] = df['iq'].fillna(df['iq'].mean())\n",
    "df['imputekww'] = df['kww'].isnull()*1\n",
    "df['kww'] = df['kww'].fillna(df['kww'].mean())\n",
    "\n",
    "# If libcrd14 is null, impute 0\n",
    "df['libcrd14'] = df['libcrd14'].fillna(0)\n",
    "print(f'Shape after preprocessing: {df.shape}')\n",
    "print(f'Data loss: {100*(1-df.shape[0]/rows):.2f}%')"
   ]
  },
  {
   "cell_type": "markdown",
   "metadata": {},
   "source": [
    "## Get Relevant Variables"
   ]
  },
  {
   "cell_type": "code",
   "execution_count": 4,
   "metadata": {
    "ExecuteTime": {
     "end_time": "2020-05-23T12:59:02.788660Z",
     "start_time": "2020-05-23T12:59:02.777632Z"
    }
   },
   "outputs": [],
   "source": [
    "# Instrumental variable is proximity to 2-year or 4-year college\n",
    "iv = df['nearc4'].values\n",
    "\n",
    "# Except for these, we use '78 data\n",
    "# Education in '76\n",
    "treatment = df['ed76'].values\n",
    "\n",
    "# Geometric mean of '76 and '78 log-wage\n",
    "result = np.exp(np.mean(np.log(df[['lwage76', 'lwage78']]), axis=1)).values\n",
    "\n",
    "covariates = df.drop(columns=['id', 'nearc2', 'nearc4', 'nearc4a', 'nearc4b', 'ed66', 'ed76', 'lwage76',\n",
    "                              'lwage78', 'work76', 'work78', 'reg80r', 'wage76', 'wage78', 'wage80',\n",
    "                              'noint80', 'enroll80', 'marsta76', 'marsta80', 'smsa66r', 'smsa76r',\n",
    "                              'enroll76', 'reg76r'])"
   ]
  },
  {
   "cell_type": "markdown",
   "metadata": {},
   "source": [
    "# Analysis: Two-Stage Least Squares"
   ]
  },
  {
   "cell_type": "markdown",
   "metadata": {},
   "source": [
    "## LSE of IV Effect to Treatment Value"
   ]
  },
  {
   "cell_type": "code",
   "execution_count": 5,
   "metadata": {
    "ExecuteTime": {
     "end_time": "2020-05-23T12:59:02.796599Z",
     "start_time": "2020-05-23T12:59:02.790836Z"
    }
   },
   "outputs": [],
   "source": [
    "# Mean as unbiased estimator of binary IV effect\n",
    "estimate = {0: treatment[iv==0].mean(), 1: treatment[iv==1].mean()}\n",
    "\n",
    "# Map from true IV value\n",
    "estimates = [estimate[x] for x in iv]"
   ]
  },
  {
   "cell_type": "markdown",
   "metadata": {},
   "source": [
    "## LSE of Estimated Treatment Value to Response Variable"
   ]
  },
  {
   "cell_type": "code",
   "execution_count": 6,
   "metadata": {
    "ExecuteTime": {
     "end_time": "2020-05-23T12:59:02.830177Z",
     "start_time": "2020-05-23T12:59:02.799043Z"
    }
   },
   "outputs": [],
   "source": [
    "# Incorporate estimates\n",
    "x = covariates.copy()\n",
    "x['estimates'] = estimates\n",
    "\n",
    "lr = LinearRegression()\n",
    "lr.fit(x, result)\n",
    "prediction = lr.predict(x)"
   ]
  },
  {
   "cell_type": "markdown",
   "metadata": {},
   "source": [
    "## Calculate Effect"
   ]
  },
  {
   "cell_type": "code",
   "execution_count": 7,
   "metadata": {
    "ExecuteTime": {
     "end_time": "2020-05-23T12:59:02.837141Z",
     "start_time": "2020-05-23T12:59:02.831767Z"
    }
   },
   "outputs": [
    {
     "name": "stdout",
     "output_type": "stream",
     "text": [
      "Result:\n",
      "Proximity increases wage by 15.35%\n"
     ]
    }
   ],
   "source": [
    "effect = prediction[iv==1].mean() - prediction[iv==0].mean()\n",
    "\n",
    "# Direction of effect\n",
    "sign = {True: 'increases', False: 'decreases'}\n",
    "\n",
    "print(f'Result:\\nProximity {sign[effect > 0]} wage by {100*(np.exp(effect)-1):.2f}%')"
   ]
  },
  {
   "cell_type": "code",
   "execution_count": 8,
   "metadata": {
    "ExecuteTime": {
     "end_time": "2020-05-23T12:59:02.844256Z",
     "start_time": "2020-05-23T12:59:02.839007Z"
    }
   },
   "outputs": [
    {
     "name": "stdout",
     "output_type": "stream",
     "text": [
      "Elapsed: 0.11s\n"
     ]
    }
   ],
   "source": [
    "print(f'Elapsed: {time.time()-start:.2f}s')"
   ]
  }
 ],
 "metadata": {
  "kernelspec": {
   "display_name": "Python 3",
   "language": "python",
   "name": "python3"
  },
  "language_info": {
   "codemirror_mode": {
    "name": "ipython",
    "version": 3
   },
   "file_extension": ".py",
   "mimetype": "text/x-python",
   "name": "python",
   "nbconvert_exporter": "python",
   "pygments_lexer": "ipython3",
   "version": "3.7.6"
  },
  "toc": {
   "base_numbering": 1,
   "nav_menu": {},
   "number_sections": true,
   "sideBar": true,
   "skip_h1_title": false,
   "title_cell": "Table of Contents",
   "title_sidebar": "Contents",
   "toc_cell": false,
   "toc_position": {},
   "toc_section_display": true,
   "toc_window_display": false
  }
 },
 "nbformat": 4,
 "nbformat_minor": 4
}
